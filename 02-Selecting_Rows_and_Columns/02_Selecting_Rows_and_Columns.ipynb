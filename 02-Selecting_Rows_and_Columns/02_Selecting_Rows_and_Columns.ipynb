{
 "metadata": {
  "language_info": {
   "codemirror_mode": {
    "name": "ipython",
    "version": 3
   },
   "file_extension": ".py",
   "mimetype": "text/x-python",
   "name": "python",
   "nbconvert_exporter": "python",
   "pygments_lexer": "ipython3",
   "version": "3.8.1-final"
  },
  "orig_nbformat": 2,
  "kernelspec": {
   "name": "Python 3.8.1 64-bit",
   "display_name": "Python 3.8.1 64-bit",
   "metadata": {
    "interpreter": {
     "hash": "e248a6610fdd3f874dc30b3485bb46f8abcc77f9f5f1f9d13789b44fad3ee9de"
    }
   }
  }
 },
 "nbformat": 4,
 "nbformat_minor": 2,
 "cells": [
  {
   "cell_type": "code",
   "execution_count": 13,
   "metadata": {},
   "outputs": [],
   "source": [
    "import pandas as pd\n",
    "\n",
    "df = pd.read_csv('../data/survey_results_public.csv')\n",
    "schema_df = pd.read_csv('../data/survey_results_schema.csv')\n",
    "\n",
    "pd.set_option('display.max_columns', 85)\n",
    "pd.set_option('display.max_rows', 85)\n"
   ]
  },
  {
   "cell_type": "code",
   "execution_count": 14,
   "metadata": {},
   "outputs": [
    {
     "output_type": "execute_result",
     "data": {
      "text/plain": "(88883, 85)"
     },
     "metadata": {},
     "execution_count": 14
    }
   ],
   "source": [
    "df.shape"
   ]
  },
  {
   "cell_type": "code",
   "execution_count": 15,
   "metadata": {},
   "outputs": [
    {
     "output_type": "execute_result",
     "data": {
      "text/plain": "Index(['Respondent', 'MainBranch', 'Hobbyist', 'OpenSourcer', 'OpenSource',\n       'Employment', 'Country', 'Student', 'EdLevel', 'UndergradMajor',\n       'EduOther', 'OrgSize', 'DevType', 'YearsCode', 'Age1stCode',\n       'YearsCodePro', 'CareerSat', 'JobSat', 'MgrIdiot', 'MgrMoney',\n       'MgrWant', 'JobSeek', 'LastHireDate', 'LastInt', 'FizzBuzz',\n       'JobFactors', 'ResumeUpdate', 'CurrencySymbol', 'CurrencyDesc',\n       'CompTotal', 'CompFreq', 'ConvertedComp', 'WorkWeekHrs', 'WorkPlan',\n       'WorkChallenge', 'WorkRemote', 'WorkLoc', 'ImpSyn', 'CodeRev',\n       'CodeRevHrs', 'UnitTests', 'PurchaseHow', 'PurchaseWhat',\n       'LanguageWorkedWith', 'LanguageDesireNextYear', 'DatabaseWorkedWith',\n       'DatabaseDesireNextYear', 'PlatformWorkedWith',\n       'PlatformDesireNextYear', 'WebFrameWorkedWith',\n       'WebFrameDesireNextYear', 'MiscTechWorkedWith',\n       'MiscTechDesireNextYear', 'DevEnviron', 'OpSys', 'Containers',\n       'BlockchainOrg', 'BlockchainIs', 'BetterLife', 'ITperson', 'OffOn',\n       'SocialMedia', 'Extraversion', 'ScreenName', 'SOVisit1st',\n       'SOVisitFreq', 'SOVisitTo', 'SOFindAnswer', 'SOTimeSaved',\n       'SOHowMuchTime', 'SOAccount', 'SOPartFreq', 'SOJobs', 'EntTeams',\n       'SOComm', 'WelcomeChange', 'SONewContent', 'Age', 'Gender', 'Trans',\n       'Sexuality', 'Ethnicity', 'Dependents', 'SurveyLength', 'SurveyEase'],\n      dtype='object')"
     },
     "metadata": {},
     "execution_count": 15
    }
   ],
   "source": [
    "df.columns"
   ]
  },
  {
   "cell_type": "code",
   "execution_count": 16,
   "metadata": {},
   "outputs": [
    {
     "output_type": "execute_result",
     "data": {
      "text/plain": "0        Yes\n1         No\n2        Yes\n3         No\n4        Yes\n        ... \n88878    Yes\n88879     No\n88880     No\n88881     No\n88882    Yes\nName: Hobbyist, Length: 88883, dtype: object"
     },
     "metadata": {},
     "execution_count": 16
    }
   ],
   "source": [
    "df['Hobbyist']"
   ]
  },
  {
   "cell_type": "code",
   "execution_count": 17,
   "metadata": {},
   "outputs": [
    {
     "output_type": "execute_result",
     "data": {
      "text/plain": "Yes    71257\nNo     17626\nName: Hobbyist, dtype: int64"
     },
     "metadata": {},
     "execution_count": 17
    }
   ],
   "source": [
    "df['Hobbyist'].value_counts()"
   ]
  },
  {
   "cell_type": "code",
   "execution_count": 18,
   "metadata": {},
   "outputs": [
    {
     "output_type": "execute_result",
     "data": {
      "text/plain": "Respondent                                                                1\nMainBranch                           I am a student who is learning to code\nHobbyist                                                                Yes\nOpenSourcer                                                           Never\nOpenSource                The quality of OSS and closed source software ...\nEmployment                           Not employed, and not looking for work\nCountry                                                      United Kingdom\nStudent                                                                  No\nEdLevel                                           Primary/elementary school\nUndergradMajor                                                          NaN\nEduOther                  Taught yourself a new language, framework, or ...\nOrgSize                                                                 NaN\nDevType                                                                 NaN\nYearsCode                                                                 4\nAge1stCode                                                               10\nYearsCodePro                                                            NaN\nCareerSat                                                               NaN\nJobSat                                                                  NaN\nMgrIdiot                                                                NaN\nMgrMoney                                                                NaN\nMgrWant                                                                 NaN\nJobSeek                                                                 NaN\nLastHireDate                                                            NaN\nLastInt                                                                 NaN\nFizzBuzz                                                                NaN\nJobFactors                                                              NaN\nResumeUpdate                                                            NaN\nCurrencySymbol                                                          NaN\nCurrencyDesc                                                            NaN\nCompTotal                                                               NaN\nCompFreq                                                                NaN\nConvertedComp                                                           NaN\nWorkWeekHrs                                                             NaN\nWorkPlan                                                                NaN\nWorkChallenge                                                           NaN\nWorkRemote                                                              NaN\nWorkLoc                                                                 NaN\nImpSyn                                                                  NaN\nCodeRev                                                                 NaN\nCodeRevHrs                                                              NaN\nUnitTests                                                               NaN\nPurchaseHow                                                             NaN\nPurchaseWhat                                                            NaN\nLanguageWorkedWith                          HTML/CSS;Java;JavaScript;Python\nLanguageDesireNextYear      C;C++;C#;Go;HTML/CSS;Java;JavaScript;Python;SQL\nDatabaseWorkedWith                                                   SQLite\nDatabaseDesireNextYear                                                MySQL\nPlatformWorkedWith                                            MacOS;Windows\nPlatformDesireNextYear                              Android;Arduino;Windows\nWebFrameWorkedWith                                             Django;Flask\nWebFrameDesireNextYear                                         Flask;jQuery\nMiscTechWorkedWith                                                  Node.js\nMiscTechDesireNextYear                                              Node.js\nDevEnviron                                       IntelliJ;Notepad++;PyCharm\nOpSys                                                               Windows\nContainers                                          I do not use containers\nBlockchainOrg                                                           NaN\nBlockchainIs                                                            NaN\nBetterLife                                                              Yes\nITperson                           Fortunately, someone else has that title\nOffOn                                                                   Yes\nSocialMedia                                                         Twitter\nExtraversion                                                         Online\nScreenName                                                         Username\nSOVisit1st                                                             2017\nSOVisitFreq                                 A few times per month or weekly\nSOVisitTo                 Find answers to specific questions;Learn how t...\nSOFindAnswer                                             3-5 times per week\nSOTimeSaved                                  Stack Overflow was much faster\nSOHowMuchTime                                                 31-60 minutes\nSOAccount                                                                No\nSOPartFreq                                                              NaN\nSOJobs                    No, I didn't know that Stack Overflow had a jo...\nEntTeams                                No, and I don't know what those are\nSOComm                                                              Neutral\nWelcomeChange                       Just as welcome now as I felt last year\nSONewContent              Tech articles written by other developers;Indu...\nAge                                                                      14\nGender                                                                  Man\nTrans                                                                    No\nSexuality                                           Straight / Heterosexual\nEthnicity                                                               NaN\nDependents                                                               No\nSurveyLength                                          Appropriate in length\nSurveyEase                                       Neither easy nor difficult\nName: 0, dtype: object"
     },
     "metadata": {},
     "execution_count": 18
    }
   ],
   "source": [
    "df.loc[0]"
   ]
  },
  {
   "cell_type": "code",
   "execution_count": 19,
   "metadata": {},
   "outputs": [
    {
     "output_type": "execute_result",
     "data": {
      "text/plain": "'Yes'"
     },
     "metadata": {},
     "execution_count": 19
    }
   ],
   "source": [
    "df.loc[0, 'Hobbyist']"
   ]
  },
  {
   "cell_type": "code",
   "execution_count": 20,
   "metadata": {},
   "outputs": [
    {
     "output_type": "execute_result",
     "data": {
      "text/plain": "0    Yes\n1     No\n2    Yes\nName: Hobbyist, dtype: object"
     },
     "metadata": {},
     "execution_count": 20
    }
   ],
   "source": [
    "df.loc[[0, 1, 2], 'Hobbyist']"
   ]
  },
  {
   "cell_type": "code",
   "execution_count": 21,
   "metadata": {},
   "outputs": [
    {
     "output_type": "execute_result",
     "data": {
      "text/plain": "0    Yes\n1     No\n2    Yes\nName: Hobbyist, dtype: object"
     },
     "metadata": {},
     "execution_count": 21
    }
   ],
   "source": [
    "df.loc[0:2, 'Hobbyist']     # slice 사용할 땐 [] 사용 X"
   ]
  },
  {
   "cell_type": "code",
   "execution_count": 22,
   "metadata": {},
   "outputs": [
    {
     "output_type": "execute_result",
     "data": {
      "text/plain": "  Hobbyist              OpenSourcer  \\\n0      Yes                    Never   \n1       No  Less than once per year   \n2      Yes                    Never   \n\n                                          OpenSource  \\\n0  The quality of OSS and closed source software ...   \n1  The quality of OSS and closed source software ...   \n2  The quality of OSS and closed source software ...   \n\n                               Employment  \n0  Not employed, and not looking for work  \n1      Not employed, but looking for work  \n2                      Employed full-time  ",
      "text/html": "<div>\n<style scoped>\n    .dataframe tbody tr th:only-of-type {\n        vertical-align: middle;\n    }\n\n    .dataframe tbody tr th {\n        vertical-align: top;\n    }\n\n    .dataframe thead th {\n        text-align: right;\n    }\n</style>\n<table border=\"1\" class=\"dataframe\">\n  <thead>\n    <tr style=\"text-align: right;\">\n      <th></th>\n      <th>Hobbyist</th>\n      <th>OpenSourcer</th>\n      <th>OpenSource</th>\n      <th>Employment</th>\n    </tr>\n  </thead>\n  <tbody>\n    <tr>\n      <th>0</th>\n      <td>Yes</td>\n      <td>Never</td>\n      <td>The quality of OSS and closed source software ...</td>\n      <td>Not employed, and not looking for work</td>\n    </tr>\n    <tr>\n      <th>1</th>\n      <td>No</td>\n      <td>Less than once per year</td>\n      <td>The quality of OSS and closed source software ...</td>\n      <td>Not employed, but looking for work</td>\n    </tr>\n    <tr>\n      <th>2</th>\n      <td>Yes</td>\n      <td>Never</td>\n      <td>The quality of OSS and closed source software ...</td>\n      <td>Employed full-time</td>\n    </tr>\n  </tbody>\n</table>\n</div>"
     },
     "metadata": {},
     "execution_count": 22
    }
   ],
   "source": [
    "df.loc[0:2, 'Hobbyist':'Employment']"
   ]
  },
  {
   "cell_type": "code",
   "execution_count": null,
   "metadata": {},
   "outputs": [],
   "source": []
  }
 ]
}