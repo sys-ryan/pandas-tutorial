{
 "metadata": {
  "language_info": {
   "codemirror_mode": {
    "name": "ipython",
    "version": 3
   },
   "file_extension": ".py",
   "mimetype": "text/x-python",
   "name": "python",
   "nbconvert_exporter": "python",
   "pygments_lexer": "ipython3",
   "version": "3.8.1-final"
  },
  "orig_nbformat": 2,
  "kernelspec": {
   "name": "Python 3.8.1 64-bit",
   "display_name": "Python 3.8.1 64-bit",
   "metadata": {
    "interpreter": {
     "hash": "e248a6610fdd3f874dc30b3485bb46f8abcc77f9f5f1f9d13789b44fad3ee9de"
    }
   }
  }
 },
 "nbformat": 4,
 "nbformat_minor": 2,
 "cells": [
  {
   "source": [
    "pip install pandas\n",
    "\n",
    "insights.stackoverflow.com/survey   >   download 2019 .csv file  >  rename the directory to 'data'  >   "
   ],
   "cell_type": "markdown",
   "metadata": {}
  },
  {
   "cell_type": "code",
   "execution_count": 2,
   "metadata": {},
   "outputs": [
    {
     "output_type": "execute_result",
     "data": {
      "text/plain": "pandas.core.frame.DataFrame"
     },
     "metadata": {},
     "execution_count": 2
    }
   ],
   "source": [
    "import pandas as pd\n",
    "\n",
    "df = pd.read_csv('../data/survey_results_public.csv')\n",
    "type(df)"
   ]
  },
  {
   "cell_type": "code",
   "execution_count": 4,
   "metadata": {
    "tags": []
   },
   "outputs": [
    {
     "output_type": "execute_result",
     "data": {
      "text/plain": "       Respondent                                         MainBranch Hobbyist  \\\n0               1             I am a student who is learning to code      Yes   \n1               2             I am a student who is learning to code       No   \n2               3  I am not primarily a developer, but I write co...      Yes   \n3               4                     I am a developer by profession       No   \n4               5                     I am a developer by profession      Yes   \n...           ...                                                ...      ...   \n88878       88377                                                NaN      Yes   \n88879       88601                                                NaN       No   \n88880       88802                                                NaN       No   \n88881       88816                                                NaN       No   \n88882       88863                                                NaN      Yes   \n\n                                             OpenSourcer  \\\n0                                                  Never   \n1                                Less than once per year   \n2                                                  Never   \n3                                                  Never   \n4                             Once a month or more often   \n...                                                  ...   \n88878  Less than once a month but more than once per ...   \n88879                                              Never   \n88880                                              Never   \n88881                                              Never   \n88882                            Less than once per year   \n\n                                              OpenSource  \\\n0      The quality of OSS and closed source software ...   \n1      The quality of OSS and closed source software ...   \n2      The quality of OSS and closed source software ...   \n3      The quality of OSS and closed source software ...   \n4      OSS is, on average, of HIGHER quality than pro...   \n...                                                  ...   \n88878  The quality of OSS and closed source software ...   \n88879  The quality of OSS and closed source software ...   \n88880                                                NaN   \n88881  OSS is, on average, of HIGHER quality than pro...   \n88882  OSS is, on average, of HIGHER quality than pro...   \n\n                                              Employment  \\\n0                 Not employed, and not looking for work   \n1                     Not employed, but looking for work   \n2                                     Employed full-time   \n3                                     Employed full-time   \n4                                     Employed full-time   \n...                                                  ...   \n88878             Not employed, and not looking for work   \n88879                                                NaN   \n88880                                 Employed full-time   \n88881  Independent contractor, freelancer, or self-em...   \n88882             Not employed, and not looking for work   \n\n                      Country         Student  \\\n0              United Kingdom              No   \n1      Bosnia and Herzegovina  Yes, full-time   \n2                    Thailand              No   \n3               United States              No   \n4                     Ukraine              No   \n...                       ...             ...   \n88878                  Canada              No   \n88879                     NaN             NaN   \n88880                     NaN             NaN   \n88881                     NaN             NaN   \n88882                   Spain  Yes, full-time   \n\n                                                 EdLevel  \\\n0                              Primary/elementary school   \n1      Secondary school (e.g. American high school, G...   \n2               Bachelor’s degree (BA, BS, B.Eng., etc.)   \n3               Bachelor’s degree (BA, BS, B.Eng., etc.)   \n4               Bachelor’s degree (BA, BS, B.Eng., etc.)   \n...                                                  ...   \n88878                          Primary/elementary school   \n88879                                                NaN   \n88880                                                NaN   \n88881                                                NaN   \n88882                 Professional degree (JD, MD, etc.)   \n\n                                          UndergradMajor  ...  \\\n0                                                    NaN  ...   \n1                                                    NaN  ...   \n2                          Web development or web design  ...   \n3      Computer science, computer engineering, or sof...  ...   \n4      Computer science, computer engineering, or sof...  ...   \n...                                                  ...  ...   \n88878                                                NaN  ...   \n88879                                                NaN  ...   \n88880                                                NaN  ...   \n88881                                                NaN  ...   \n88882  Computer science, computer engineering, or sof...  ...   \n\n                                  WelcomeChange  \\\n0       Just as welcome now as I felt last year   \n1       Just as welcome now as I felt last year   \n2       Just as welcome now as I felt last year   \n3       Just as welcome now as I felt last year   \n4       Just as welcome now as I felt last year   \n...                                         ...   \n88878                                       NaN   \n88879                                       NaN   \n88880                                       NaN   \n88881                                       NaN   \n88882  Somewhat less welcome now than last year   \n\n                                            SONewContent   Age Gender Trans  \\\n0      Tech articles written by other developers;Indu...  14.0    Man    No   \n1      Tech articles written by other developers;Indu...  19.0    Man    No   \n2      Tech meetups or events in your area;Courses on...  28.0    Man    No   \n3      Tech articles written by other developers;Indu...  22.0    Man    No   \n4      Tech meetups or events in your area;Courses on...  30.0    Man    No   \n...                                                  ...   ...    ...   ...   \n88878  Tech articles written by other developers;Tech...   NaN    Man    No   \n88879                                                NaN   NaN    NaN   NaN   \n88880                                                NaN   NaN    NaN   NaN   \n88881                                                NaN   NaN    NaN   NaN   \n88882  Tech articles written by other developers;Indu...  18.0    Man    No   \n\n                     Sexuality  \\\n0      Straight / Heterosexual   \n1      Straight / Heterosexual   \n2      Straight / Heterosexual   \n3      Straight / Heterosexual   \n4      Straight / Heterosexual   \n...                        ...   \n88878                      NaN   \n88879                      NaN   \n88880                      NaN   \n88881                      NaN   \n88882  Straight / Heterosexual   \n\n                                               Ethnicity Dependents  \\\n0                                                    NaN         No   \n1                                                    NaN         No   \n2                                                    NaN        Yes   \n3                           White or of European descent         No   \n4               White or of European descent;Multiracial         No   \n...                                                  ...        ...   \n88878                                                NaN         No   \n88879                                                NaN        NaN   \n88880                                                NaN        NaN   \n88881                                                NaN        NaN   \n88882  Hispanic or Latino/Latina;White or of European...         No   \n\n                SurveyLength                  SurveyEase  \n0      Appropriate in length  Neither easy nor difficult  \n1      Appropriate in length  Neither easy nor difficult  \n2      Appropriate in length  Neither easy nor difficult  \n3      Appropriate in length                        Easy  \n4      Appropriate in length                        Easy  \n...                      ...                         ...  \n88878  Appropriate in length                        Easy  \n88879                    NaN                         NaN  \n88880                    NaN                         NaN  \n88881                    NaN                         NaN  \n88882  Appropriate in length                        Easy  \n\n[88883 rows x 85 columns]",
      "text/html": "<div>\n<style scoped>\n    .dataframe tbody tr th:only-of-type {\n        vertical-align: middle;\n    }\n\n    .dataframe tbody tr th {\n        vertical-align: top;\n    }\n\n    .dataframe thead th {\n        text-align: right;\n    }\n</style>\n<table border=\"1\" class=\"dataframe\">\n  <thead>\n    <tr style=\"text-align: right;\">\n      <th></th>\n      <th>Respondent</th>\n      <th>MainBranch</th>\n      <th>Hobbyist</th>\n      <th>OpenSourcer</th>\n      <th>OpenSource</th>\n      <th>Employment</th>\n      <th>Country</th>\n      <th>Student</th>\n      <th>EdLevel</th>\n      <th>UndergradMajor</th>\n      <th>...</th>\n      <th>WelcomeChange</th>\n      <th>SONewContent</th>\n      <th>Age</th>\n      <th>Gender</th>\n      <th>Trans</th>\n      <th>Sexuality</th>\n      <th>Ethnicity</th>\n      <th>Dependents</th>\n      <th>SurveyLength</th>\n      <th>SurveyEase</th>\n    </tr>\n  </thead>\n  <tbody>\n    <tr>\n      <th>0</th>\n      <td>1</td>\n      <td>I am a student who is learning to code</td>\n      <td>Yes</td>\n      <td>Never</td>\n      <td>The quality of OSS and closed source software ...</td>\n      <td>Not employed, and not looking for work</td>\n      <td>United Kingdom</td>\n      <td>No</td>\n      <td>Primary/elementary school</td>\n      <td>NaN</td>\n      <td>...</td>\n      <td>Just as welcome now as I felt last year</td>\n      <td>Tech articles written by other developers;Indu...</td>\n      <td>14.0</td>\n      <td>Man</td>\n      <td>No</td>\n      <td>Straight / Heterosexual</td>\n      <td>NaN</td>\n      <td>No</td>\n      <td>Appropriate in length</td>\n      <td>Neither easy nor difficult</td>\n    </tr>\n    <tr>\n      <th>1</th>\n      <td>2</td>\n      <td>I am a student who is learning to code</td>\n      <td>No</td>\n      <td>Less than once per year</td>\n      <td>The quality of OSS and closed source software ...</td>\n      <td>Not employed, but looking for work</td>\n      <td>Bosnia and Herzegovina</td>\n      <td>Yes, full-time</td>\n      <td>Secondary school (e.g. American high school, G...</td>\n      <td>NaN</td>\n      <td>...</td>\n      <td>Just as welcome now as I felt last year</td>\n      <td>Tech articles written by other developers;Indu...</td>\n      <td>19.0</td>\n      <td>Man</td>\n      <td>No</td>\n      <td>Straight / Heterosexual</td>\n      <td>NaN</td>\n      <td>No</td>\n      <td>Appropriate in length</td>\n      <td>Neither easy nor difficult</td>\n    </tr>\n    <tr>\n      <th>2</th>\n      <td>3</td>\n      <td>I am not primarily a developer, but I write co...</td>\n      <td>Yes</td>\n      <td>Never</td>\n      <td>The quality of OSS and closed source software ...</td>\n      <td>Employed full-time</td>\n      <td>Thailand</td>\n      <td>No</td>\n      <td>Bachelor’s degree (BA, BS, B.Eng., etc.)</td>\n      <td>Web development or web design</td>\n      <td>...</td>\n      <td>Just as welcome now as I felt last year</td>\n      <td>Tech meetups or events in your area;Courses on...</td>\n      <td>28.0</td>\n      <td>Man</td>\n      <td>No</td>\n      <td>Straight / Heterosexual</td>\n      <td>NaN</td>\n      <td>Yes</td>\n      <td>Appropriate in length</td>\n      <td>Neither easy nor difficult</td>\n    </tr>\n    <tr>\n      <th>3</th>\n      <td>4</td>\n      <td>I am a developer by profession</td>\n      <td>No</td>\n      <td>Never</td>\n      <td>The quality of OSS and closed source software ...</td>\n      <td>Employed full-time</td>\n      <td>United States</td>\n      <td>No</td>\n      <td>Bachelor’s degree (BA, BS, B.Eng., etc.)</td>\n      <td>Computer science, computer engineering, or sof...</td>\n      <td>...</td>\n      <td>Just as welcome now as I felt last year</td>\n      <td>Tech articles written by other developers;Indu...</td>\n      <td>22.0</td>\n      <td>Man</td>\n      <td>No</td>\n      <td>Straight / Heterosexual</td>\n      <td>White or of European descent</td>\n      <td>No</td>\n      <td>Appropriate in length</td>\n      <td>Easy</td>\n    </tr>\n    <tr>\n      <th>4</th>\n      <td>5</td>\n      <td>I am a developer by profession</td>\n      <td>Yes</td>\n      <td>Once a month or more often</td>\n      <td>OSS is, on average, of HIGHER quality than pro...</td>\n      <td>Employed full-time</td>\n      <td>Ukraine</td>\n      <td>No</td>\n      <td>Bachelor’s degree (BA, BS, B.Eng., etc.)</td>\n      <td>Computer science, computer engineering, or sof...</td>\n      <td>...</td>\n      <td>Just as welcome now as I felt last year</td>\n      <td>Tech meetups or events in your area;Courses on...</td>\n      <td>30.0</td>\n      <td>Man</td>\n      <td>No</td>\n      <td>Straight / Heterosexual</td>\n      <td>White or of European descent;Multiracial</td>\n      <td>No</td>\n      <td>Appropriate in length</td>\n      <td>Easy</td>\n    </tr>\n    <tr>\n      <th>...</th>\n      <td>...</td>\n      <td>...</td>\n      <td>...</td>\n      <td>...</td>\n      <td>...</td>\n      <td>...</td>\n      <td>...</td>\n      <td>...</td>\n      <td>...</td>\n      <td>...</td>\n      <td>...</td>\n      <td>...</td>\n      <td>...</td>\n      <td>...</td>\n      <td>...</td>\n      <td>...</td>\n      <td>...</td>\n      <td>...</td>\n      <td>...</td>\n      <td>...</td>\n      <td>...</td>\n    </tr>\n    <tr>\n      <th>88878</th>\n      <td>88377</td>\n      <td>NaN</td>\n      <td>Yes</td>\n      <td>Less than once a month but more than once per ...</td>\n      <td>The quality of OSS and closed source software ...</td>\n      <td>Not employed, and not looking for work</td>\n      <td>Canada</td>\n      <td>No</td>\n      <td>Primary/elementary school</td>\n      <td>NaN</td>\n      <td>...</td>\n      <td>NaN</td>\n      <td>Tech articles written by other developers;Tech...</td>\n      <td>NaN</td>\n      <td>Man</td>\n      <td>No</td>\n      <td>NaN</td>\n      <td>NaN</td>\n      <td>No</td>\n      <td>Appropriate in length</td>\n      <td>Easy</td>\n    </tr>\n    <tr>\n      <th>88879</th>\n      <td>88601</td>\n      <td>NaN</td>\n      <td>No</td>\n      <td>Never</td>\n      <td>The quality of OSS and closed source software ...</td>\n      <td>NaN</td>\n      <td>NaN</td>\n      <td>NaN</td>\n      <td>NaN</td>\n      <td>NaN</td>\n      <td>...</td>\n      <td>NaN</td>\n      <td>NaN</td>\n      <td>NaN</td>\n      <td>NaN</td>\n      <td>NaN</td>\n      <td>NaN</td>\n      <td>NaN</td>\n      <td>NaN</td>\n      <td>NaN</td>\n      <td>NaN</td>\n    </tr>\n    <tr>\n      <th>88880</th>\n      <td>88802</td>\n      <td>NaN</td>\n      <td>No</td>\n      <td>Never</td>\n      <td>NaN</td>\n      <td>Employed full-time</td>\n      <td>NaN</td>\n      <td>NaN</td>\n      <td>NaN</td>\n      <td>NaN</td>\n      <td>...</td>\n      <td>NaN</td>\n      <td>NaN</td>\n      <td>NaN</td>\n      <td>NaN</td>\n      <td>NaN</td>\n      <td>NaN</td>\n      <td>NaN</td>\n      <td>NaN</td>\n      <td>NaN</td>\n      <td>NaN</td>\n    </tr>\n    <tr>\n      <th>88881</th>\n      <td>88816</td>\n      <td>NaN</td>\n      <td>No</td>\n      <td>Never</td>\n      <td>OSS is, on average, of HIGHER quality than pro...</td>\n      <td>Independent contractor, freelancer, or self-em...</td>\n      <td>NaN</td>\n      <td>NaN</td>\n      <td>NaN</td>\n      <td>NaN</td>\n      <td>...</td>\n      <td>NaN</td>\n      <td>NaN</td>\n      <td>NaN</td>\n      <td>NaN</td>\n      <td>NaN</td>\n      <td>NaN</td>\n      <td>NaN</td>\n      <td>NaN</td>\n      <td>NaN</td>\n      <td>NaN</td>\n    </tr>\n    <tr>\n      <th>88882</th>\n      <td>88863</td>\n      <td>NaN</td>\n      <td>Yes</td>\n      <td>Less than once per year</td>\n      <td>OSS is, on average, of HIGHER quality than pro...</td>\n      <td>Not employed, and not looking for work</td>\n      <td>Spain</td>\n      <td>Yes, full-time</td>\n      <td>Professional degree (JD, MD, etc.)</td>\n      <td>Computer science, computer engineering, or sof...</td>\n      <td>...</td>\n      <td>Somewhat less welcome now than last year</td>\n      <td>Tech articles written by other developers;Indu...</td>\n      <td>18.0</td>\n      <td>Man</td>\n      <td>No</td>\n      <td>Straight / Heterosexual</td>\n      <td>Hispanic or Latino/Latina;White or of European...</td>\n      <td>No</td>\n      <td>Appropriate in length</td>\n      <td>Easy</td>\n    </tr>\n  </tbody>\n</table>\n<p>88883 rows × 85 columns</p>\n</div>"
     },
     "metadata": {},
     "execution_count": 4
    }
   ],
   "source": [
    "df"
   ]
  },
  {
   "cell_type": "code",
   "execution_count": 6,
   "metadata": {},
   "outputs": [
    {
     "output_type": "execute_result",
     "data": {
      "text/plain": "(88883, 85)"
     },
     "metadata": {},
     "execution_count": 6
    }
   ],
   "source": [
    "df.shape"
   ]
  },
  {
   "cell_type": "code",
   "execution_count": 8,
   "metadata": {
    "tags": []
   },
   "outputs": [
    {
     "output_type": "stream",
     "name": "stdout",
     "text": "<class 'pandas.core.frame.DataFrame'>\nRangeIndex: 88883 entries, 0 to 88882\nData columns (total 85 columns):\n #   Column                  Non-Null Count  Dtype  \n---  ------                  --------------  -----  \n 0   Respondent              88883 non-null  int64  \n 1   MainBranch              88331 non-null  object \n 2   Hobbyist                88883 non-null  object \n 3   OpenSourcer             88883 non-null  object \n 4   OpenSource              86842 non-null  object \n 5   Employment              87181 non-null  object \n 6   Country                 88751 non-null  object \n 7   Student                 87014 non-null  object \n 8   EdLevel                 86390 non-null  object \n 9   UndergradMajor          75614 non-null  object \n 10  EduOther                84260 non-null  object \n 11  OrgSize                 71791 non-null  object \n 12  DevType                 81335 non-null  object \n 13  YearsCode               87938 non-null  object \n 14  Age1stCode              87634 non-null  object \n 15  YearsCodePro            74331 non-null  object \n 16  CareerSat               72847 non-null  object \n 17  JobSat                  70988 non-null  object \n 18  MgrIdiot                61159 non-null  object \n 19  MgrMoney                61157 non-null  object \n 20  MgrWant                 61232 non-null  object \n 21  JobSeek                 80555 non-null  object \n 22  LastHireDate            79854 non-null  object \n 23  LastInt                 67155 non-null  object \n 24  FizzBuzz                71344 non-null  object \n 25  JobFactors              79371 non-null  object \n 26  ResumeUpdate            77877 non-null  object \n 27  CurrencySymbol          71392 non-null  object \n 28  CurrencyDesc            71392 non-null  object \n 29  CompTotal               55945 non-null  float64\n 30  CompFreq                63268 non-null  object \n 31  ConvertedComp           55823 non-null  float64\n 32  WorkWeekHrs             64503 non-null  float64\n 33  WorkPlan                68914 non-null  object \n 34  WorkChallenge           68141 non-null  object \n 35  WorkRemote              70284 non-null  object \n 36  WorkLoc                 70055 non-null  object \n 37  ImpSyn                  71779 non-null  object \n 38  CodeRev                 70390 non-null  object \n 39  CodeRevHrs              49790 non-null  float64\n 40  UnitTests               62668 non-null  object \n 41  PurchaseHow             61108 non-null  object \n 42  PurchaseWhat            62029 non-null  object \n 43  LanguageWorkedWith      87569 non-null  object \n 44  LanguageDesireNextYear  84088 non-null  object \n 45  DatabaseWorkedWith      76026 non-null  object \n 46  DatabaseDesireNextYear  69147 non-null  object \n 47  PlatformWorkedWith      80714 non-null  object \n 48  PlatformDesireNextYear  77443 non-null  object \n 49  WebFrameWorkedWith      65022 non-null  object \n 50  WebFrameDesireNextYear  62944 non-null  object \n 51  MiscTechWorkedWith      59586 non-null  object \n 52  MiscTechDesireNextYear  64511 non-null  object \n 53  DevEnviron              87317 non-null  object \n 54  OpSys                   87851 non-null  object \n 55  Containers              85366 non-null  object \n 56  BlockchainOrg           48175 non-null  object \n 57  BlockchainIs            60165 non-null  object \n 58  BetterLife              86269 non-null  object \n 59  ITperson                87141 non-null  object \n 60  OffOn                   86663 non-null  object \n 61  SocialMedia             84437 non-null  object \n 62  Extraversion            87305 non-null  object \n 63  ScreenName              80486 non-null  object \n 64  SOVisit1st              83877 non-null  object \n 65  SOVisitFreq             88263 non-null  object \n 66  SOVisitTo               88086 non-null  object \n 67  SOFindAnswer            87816 non-null  object \n 68  SOTimeSaved             86344 non-null  object \n 69  SOHowMuchTime           68378 non-null  object \n 70  SOAccount               87828 non-null  object \n 71  SOPartFreq              74692 non-null  object \n 72  SOJobs                  88066 non-null  object \n 73  EntTeams                87841 non-null  object \n 74  SOComm                  88131 non-null  object \n 75  WelcomeChange           85855 non-null  object \n 76  SONewContent            69560 non-null  object \n 77  Age                     79210 non-null  float64\n 78  Gender                  85406 non-null  object \n 79  Trans                   83607 non-null  object \n 80  Sexuality               76147 non-null  object \n 81  Ethnicity               76668 non-null  object \n 82  Dependents              83059 non-null  object \n 83  SurveyLength            86984 non-null  object \n 84  SurveyEase              87081 non-null  object \ndtypes: float64(5), int64(1), object(79)\nmemory usage: 57.6+ MB\n"
    }
   ],
   "source": [
    "df.info()"
   ]
  },
  {
   "cell_type": "code",
   "execution_count": 10,
   "metadata": {},
   "outputs": [],
   "source": [
    "pd.set_option('display.max_columns', 85)\n",
    "pd.set_option('display.max_rows', 85)"
   ]
  },
  {
   "cell_type": "code",
   "execution_count": null,
   "metadata": {},
   "outputs": [],
   "source": []
  }
 ]
}